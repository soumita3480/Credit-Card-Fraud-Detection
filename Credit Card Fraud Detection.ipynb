{
 "cells": [
  {
   "cell_type": "code",
   "execution_count": 1,
   "id": "8c3000ca-43ed-4467-8f80-e9052bcdbf9d",
   "metadata": {},
   "outputs": [],
   "source": [
    "import pandas as pd\n",
    "import numpy as np"
   ]
  },
  {
   "cell_type": "code",
   "execution_count": 2,
   "id": "95bbd7a3-fc23-4353-aaa5-c8879cd89970",
   "metadata": {},
   "outputs": [],
   "source": [
    "df=pd.read_csv(\"creditcard.csv\")"
   ]
  },
  {
   "cell_type": "code",
   "execution_count": 5,
   "id": "b144a02a-2e50-4b22-af66-a74247dd4aa8",
   "metadata": {},
   "outputs": [
    {
     "data": {
      "text/html": [
       "<div>\n",
       "<style scoped>\n",
       "    .dataframe tbody tr th:only-of-type {\n",
       "        vertical-align: middle;\n",
       "    }\n",
       "\n",
       "    .dataframe tbody tr th {\n",
       "        vertical-align: top;\n",
       "    }\n",
       "\n",
       "    .dataframe thead th {\n",
       "        text-align: right;\n",
       "    }\n",
       "</style>\n",
       "<table border=\"1\" class=\"dataframe\">\n",
       "  <thead>\n",
       "    <tr style=\"text-align: right;\">\n",
       "      <th></th>\n",
       "      <th>Time</th>\n",
       "      <th>V1</th>\n",
       "      <th>V2</th>\n",
       "      <th>V3</th>\n",
       "      <th>V4</th>\n",
       "      <th>V5</th>\n",
       "      <th>V6</th>\n",
       "      <th>V7</th>\n",
       "      <th>V8</th>\n",
       "      <th>V9</th>\n",
       "      <th>...</th>\n",
       "      <th>V21</th>\n",
       "      <th>V22</th>\n",
       "      <th>V23</th>\n",
       "      <th>V24</th>\n",
       "      <th>V25</th>\n",
       "      <th>V26</th>\n",
       "      <th>V27</th>\n",
       "      <th>V28</th>\n",
       "      <th>Amount</th>\n",
       "      <th>Class</th>\n",
       "    </tr>\n",
       "  </thead>\n",
       "  <tbody>\n",
       "    <tr>\n",
       "      <th>5973</th>\n",
       "      <td>6645.0</td>\n",
       "      <td>-0.535272</td>\n",
       "      <td>-0.132299</td>\n",
       "      <td>2.180041</td>\n",
       "      <td>1.018303</td>\n",
       "      <td>-1.498819</td>\n",
       "      <td>0.529570</td>\n",
       "      <td>0.420147</td>\n",
       "      <td>0.045445</td>\n",
       "      <td>1.543919</td>\n",
       "      <td>...</td>\n",
       "      <td>-0.048645</td>\n",
       "      <td>0.088276</td>\n",
       "      <td>0.671266</td>\n",
       "      <td>0.622096</td>\n",
       "      <td>-0.993479</td>\n",
       "      <td>1.037049</td>\n",
       "      <td>0.070982</td>\n",
       "      <td>0.179864</td>\n",
       "      <td>231.48</td>\n",
       "      <td>0</td>\n",
       "    </tr>\n",
       "    <tr>\n",
       "      <th>87072</th>\n",
       "      <td>61527.0</td>\n",
       "      <td>-0.398159</td>\n",
       "      <td>0.837253</td>\n",
       "      <td>1.200347</td>\n",
       "      <td>-0.323593</td>\n",
       "      <td>0.218075</td>\n",
       "      <td>-0.145239</td>\n",
       "      <td>0.455220</td>\n",
       "      <td>0.242090</td>\n",
       "      <td>-0.309060</td>\n",
       "      <td>...</td>\n",
       "      <td>-0.252769</td>\n",
       "      <td>-0.790923</td>\n",
       "      <td>-0.114172</td>\n",
       "      <td>-0.568531</td>\n",
       "      <td>-0.178600</td>\n",
       "      <td>0.111451</td>\n",
       "      <td>0.247987</td>\n",
       "      <td>0.098299</td>\n",
       "      <td>2.69</td>\n",
       "      <td>0</td>\n",
       "    </tr>\n",
       "    <tr>\n",
       "      <th>263473</th>\n",
       "      <td>160974.0</td>\n",
       "      <td>-0.229893</td>\n",
       "      <td>1.360427</td>\n",
       "      <td>-0.558232</td>\n",
       "      <td>-0.412267</td>\n",
       "      <td>0.493742</td>\n",
       "      <td>-1.049640</td>\n",
       "      <td>0.663552</td>\n",
       "      <td>0.264283</td>\n",
       "      <td>-0.380139</td>\n",
       "      <td>...</td>\n",
       "      <td>-0.254720</td>\n",
       "      <td>-0.667312</td>\n",
       "      <td>0.198665</td>\n",
       "      <td>1.006873</td>\n",
       "      <td>-0.442814</td>\n",
       "      <td>0.088978</td>\n",
       "      <td>0.107157</td>\n",
       "      <td>0.027194</td>\n",
       "      <td>1.98</td>\n",
       "      <td>0</td>\n",
       "    </tr>\n",
       "    <tr>\n",
       "      <th>162420</th>\n",
       "      <td>115102.0</td>\n",
       "      <td>1.738055</td>\n",
       "      <td>-0.843250</td>\n",
       "      <td>-0.790450</td>\n",
       "      <td>0.075816</td>\n",
       "      <td>-0.249759</td>\n",
       "      <td>0.410262</td>\n",
       "      <td>-0.458321</td>\n",
       "      <td>0.122502</td>\n",
       "      <td>0.756664</td>\n",
       "      <td>...</td>\n",
       "      <td>-0.119590</td>\n",
       "      <td>-0.593653</td>\n",
       "      <td>0.234936</td>\n",
       "      <td>0.108085</td>\n",
       "      <td>-0.596361</td>\n",
       "      <td>0.242196</td>\n",
       "      <td>-0.067117</td>\n",
       "      <td>-0.026225</td>\n",
       "      <td>150.00</td>\n",
       "      <td>0</td>\n",
       "    </tr>\n",
       "    <tr>\n",
       "      <th>5460</th>\n",
       "      <td>5469.0</td>\n",
       "      <td>-0.809930</td>\n",
       "      <td>0.623895</td>\n",
       "      <td>2.641249</td>\n",
       "      <td>1.272183</td>\n",
       "      <td>-0.505820</td>\n",
       "      <td>1.022814</td>\n",
       "      <td>0.339408</td>\n",
       "      <td>-0.248390</td>\n",
       "      <td>1.878240</td>\n",
       "      <td>...</td>\n",
       "      <td>-0.100430</td>\n",
       "      <td>0.449592</td>\n",
       "      <td>-0.043866</td>\n",
       "      <td>0.163676</td>\n",
       "      <td>-0.660021</td>\n",
       "      <td>-0.475619</td>\n",
       "      <td>-0.619958</td>\n",
       "      <td>-0.284938</td>\n",
       "      <td>75.00</td>\n",
       "      <td>0</td>\n",
       "    </tr>\n",
       "    <tr>\n",
       "      <th>228152</th>\n",
       "      <td>145378.0</td>\n",
       "      <td>2.093274</td>\n",
       "      <td>-1.138849</td>\n",
       "      <td>-0.504042</td>\n",
       "      <td>-0.950552</td>\n",
       "      <td>-1.161956</td>\n",
       "      <td>-0.390421</td>\n",
       "      <td>-1.119259</td>\n",
       "      <td>0.099156</td>\n",
       "      <td>0.053954</td>\n",
       "      <td>...</td>\n",
       "      <td>-0.016638</td>\n",
       "      <td>-0.182597</td>\n",
       "      <td>0.328333</td>\n",
       "      <td>-0.425096</td>\n",
       "      <td>-0.537853</td>\n",
       "      <td>-0.481036</td>\n",
       "      <td>-0.004885</td>\n",
       "      <td>-0.052547</td>\n",
       "      <td>34.00</td>\n",
       "      <td>0</td>\n",
       "    </tr>\n",
       "    <tr>\n",
       "      <th>110327</th>\n",
       "      <td>71774.0</td>\n",
       "      <td>-5.438382</td>\n",
       "      <td>4.410245</td>\n",
       "      <td>0.729507</td>\n",
       "      <td>-3.571031</td>\n",
       "      <td>0.920506</td>\n",
       "      <td>-0.148947</td>\n",
       "      <td>3.003053</td>\n",
       "      <td>-2.655746</td>\n",
       "      <td>7.668338</td>\n",
       "      <td>...</td>\n",
       "      <td>-1.669940</td>\n",
       "      <td>-0.384778</td>\n",
       "      <td>-0.244528</td>\n",
       "      <td>-0.405683</td>\n",
       "      <td>0.767921</td>\n",
       "      <td>0.460514</td>\n",
       "      <td>0.744023</td>\n",
       "      <td>-1.505631</td>\n",
       "      <td>0.75</td>\n",
       "      <td>0</td>\n",
       "    </tr>\n",
       "    <tr>\n",
       "      <th>23938</th>\n",
       "      <td>32992.0</td>\n",
       "      <td>-1.050141</td>\n",
       "      <td>-0.156737</td>\n",
       "      <td>1.303986</td>\n",
       "      <td>0.924040</td>\n",
       "      <td>1.479007</td>\n",
       "      <td>-0.934296</td>\n",
       "      <td>0.206552</td>\n",
       "      <td>-0.097070</td>\n",
       "      <td>-0.584926</td>\n",
       "      <td>...</td>\n",
       "      <td>0.194043</td>\n",
       "      <td>0.519944</td>\n",
       "      <td>0.004181</td>\n",
       "      <td>0.018192</td>\n",
       "      <td>-0.141573</td>\n",
       "      <td>-0.344109</td>\n",
       "      <td>0.204339</td>\n",
       "      <td>0.013592</td>\n",
       "      <td>26.00</td>\n",
       "      <td>0</td>\n",
       "    </tr>\n",
       "    <tr>\n",
       "      <th>187601</th>\n",
       "      <td>127600.0</td>\n",
       "      <td>2.055197</td>\n",
       "      <td>-0.028283</td>\n",
       "      <td>-1.414047</td>\n",
       "      <td>0.173574</td>\n",
       "      <td>0.209158</td>\n",
       "      <td>-0.853967</td>\n",
       "      <td>0.172864</td>\n",
       "      <td>-0.259913</td>\n",
       "      <td>0.303365</td>\n",
       "      <td>...</td>\n",
       "      <td>0.279580</td>\n",
       "      <td>0.959969</td>\n",
       "      <td>-0.055865</td>\n",
       "      <td>-0.288597</td>\n",
       "      <td>0.293492</td>\n",
       "      <td>-0.109443</td>\n",
       "      <td>-0.021293</td>\n",
       "      <td>-0.071387</td>\n",
       "      <td>0.89</td>\n",
       "      <td>0</td>\n",
       "    </tr>\n",
       "    <tr>\n",
       "      <th>251186</th>\n",
       "      <td>155263.0</td>\n",
       "      <td>1.971606</td>\n",
       "      <td>-1.221274</td>\n",
       "      <td>-0.434318</td>\n",
       "      <td>-0.716836</td>\n",
       "      <td>-1.319130</td>\n",
       "      <td>-0.775182</td>\n",
       "      <td>-0.852908</td>\n",
       "      <td>-0.128739</td>\n",
       "      <td>0.102420</td>\n",
       "      <td>...</td>\n",
       "      <td>0.015222</td>\n",
       "      <td>-0.147795</td>\n",
       "      <td>0.315672</td>\n",
       "      <td>-0.041315</td>\n",
       "      <td>-0.554199</td>\n",
       "      <td>-0.491076</td>\n",
       "      <td>-0.002694</td>\n",
       "      <td>-0.024985</td>\n",
       "      <td>102.47</td>\n",
       "      <td>0</td>\n",
       "    </tr>\n",
       "  </tbody>\n",
       "</table>\n",
       "<p>10 rows × 31 columns</p>\n",
       "</div>"
      ],
      "text/plain": [
       "            Time        V1        V2        V3        V4        V5        V6  \\\n",
       "5973      6645.0 -0.535272 -0.132299  2.180041  1.018303 -1.498819  0.529570   \n",
       "87072    61527.0 -0.398159  0.837253  1.200347 -0.323593  0.218075 -0.145239   \n",
       "263473  160974.0 -0.229893  1.360427 -0.558232 -0.412267  0.493742 -1.049640   \n",
       "162420  115102.0  1.738055 -0.843250 -0.790450  0.075816 -0.249759  0.410262   \n",
       "5460      5469.0 -0.809930  0.623895  2.641249  1.272183 -0.505820  1.022814   \n",
       "228152  145378.0  2.093274 -1.138849 -0.504042 -0.950552 -1.161956 -0.390421   \n",
       "110327   71774.0 -5.438382  4.410245  0.729507 -3.571031  0.920506 -0.148947   \n",
       "23938    32992.0 -1.050141 -0.156737  1.303986  0.924040  1.479007 -0.934296   \n",
       "187601  127600.0  2.055197 -0.028283 -1.414047  0.173574  0.209158 -0.853967   \n",
       "251186  155263.0  1.971606 -1.221274 -0.434318 -0.716836 -1.319130 -0.775182   \n",
       "\n",
       "              V7        V8        V9  ...       V21       V22       V23  \\\n",
       "5973    0.420147  0.045445  1.543919  ... -0.048645  0.088276  0.671266   \n",
       "87072   0.455220  0.242090 -0.309060  ... -0.252769 -0.790923 -0.114172   \n",
       "263473  0.663552  0.264283 -0.380139  ... -0.254720 -0.667312  0.198665   \n",
       "162420 -0.458321  0.122502  0.756664  ... -0.119590 -0.593653  0.234936   \n",
       "5460    0.339408 -0.248390  1.878240  ... -0.100430  0.449592 -0.043866   \n",
       "228152 -1.119259  0.099156  0.053954  ... -0.016638 -0.182597  0.328333   \n",
       "110327  3.003053 -2.655746  7.668338  ... -1.669940 -0.384778 -0.244528   \n",
       "23938   0.206552 -0.097070 -0.584926  ...  0.194043  0.519944  0.004181   \n",
       "187601  0.172864 -0.259913  0.303365  ...  0.279580  0.959969 -0.055865   \n",
       "251186 -0.852908 -0.128739  0.102420  ...  0.015222 -0.147795  0.315672   \n",
       "\n",
       "             V24       V25       V26       V27       V28  Amount  Class  \n",
       "5973    0.622096 -0.993479  1.037049  0.070982  0.179864  231.48      0  \n",
       "87072  -0.568531 -0.178600  0.111451  0.247987  0.098299    2.69      0  \n",
       "263473  1.006873 -0.442814  0.088978  0.107157  0.027194    1.98      0  \n",
       "162420  0.108085 -0.596361  0.242196 -0.067117 -0.026225  150.00      0  \n",
       "5460    0.163676 -0.660021 -0.475619 -0.619958 -0.284938   75.00      0  \n",
       "228152 -0.425096 -0.537853 -0.481036 -0.004885 -0.052547   34.00      0  \n",
       "110327 -0.405683  0.767921  0.460514  0.744023 -1.505631    0.75      0  \n",
       "23938   0.018192 -0.141573 -0.344109  0.204339  0.013592   26.00      0  \n",
       "187601 -0.288597  0.293492 -0.109443 -0.021293 -0.071387    0.89      0  \n",
       "251186 -0.041315 -0.554199 -0.491076 -0.002694 -0.024985  102.47      0  \n",
       "\n",
       "[10 rows x 31 columns]"
      ]
     },
     "execution_count": 5,
     "metadata": {},
     "output_type": "execute_result"
    }
   ],
   "source": [
    "df.sample(10)"
   ]
  },
  {
   "cell_type": "code",
   "execution_count": 6,
   "id": "c33cc979-39f4-4410-a72b-855372257dd7",
   "metadata": {},
   "outputs": [
    {
     "data": {
      "text/plain": [
       "Index(['Time', 'V1', 'V2', 'V3', 'V4', 'V5', 'V6', 'V7', 'V8', 'V9', 'V10',\n",
       "       'V11', 'V12', 'V13', 'V14', 'V15', 'V16', 'V17', 'V18', 'V19', 'V20',\n",
       "       'V21', 'V22', 'V23', 'V24', 'V25', 'V26', 'V27', 'V28', 'Amount',\n",
       "       'Class'],\n",
       "      dtype='object')"
      ]
     },
     "execution_count": 6,
     "metadata": {},
     "output_type": "execute_result"
    }
   ],
   "source": [
    "df.columns"
   ]
  },
  {
   "cell_type": "code",
   "execution_count": 7,
   "id": "aee6f1ed-7ac2-4524-8976-7618e9b2a106",
   "metadata": {},
   "outputs": [
    {
     "name": "stdout",
     "output_type": "stream",
     "text": [
      "<class 'pandas.core.frame.DataFrame'>\n",
      "RangeIndex: 284807 entries, 0 to 284806\n",
      "Data columns (total 31 columns):\n",
      " #   Column  Non-Null Count   Dtype  \n",
      "---  ------  --------------   -----  \n",
      " 0   Time    284807 non-null  float64\n",
      " 1   V1      284807 non-null  float64\n",
      " 2   V2      284807 non-null  float64\n",
      " 3   V3      284807 non-null  float64\n",
      " 4   V4      284807 non-null  float64\n",
      " 5   V5      284807 non-null  float64\n",
      " 6   V6      284807 non-null  float64\n",
      " 7   V7      284807 non-null  float64\n",
      " 8   V8      284807 non-null  float64\n",
      " 9   V9      284807 non-null  float64\n",
      " 10  V10     284807 non-null  float64\n",
      " 11  V11     284807 non-null  float64\n",
      " 12  V12     284807 non-null  float64\n",
      " 13  V13     284807 non-null  float64\n",
      " 14  V14     284807 non-null  float64\n",
      " 15  V15     284807 non-null  float64\n",
      " 16  V16     284807 non-null  float64\n",
      " 17  V17     284807 non-null  float64\n",
      " 18  V18     284807 non-null  float64\n",
      " 19  V19     284807 non-null  float64\n",
      " 20  V20     284807 non-null  float64\n",
      " 21  V21     284807 non-null  float64\n",
      " 22  V22     284807 non-null  float64\n",
      " 23  V23     284807 non-null  float64\n",
      " 24  V24     284807 non-null  float64\n",
      " 25  V25     284807 non-null  float64\n",
      " 26  V26     284807 non-null  float64\n",
      " 27  V27     284807 non-null  float64\n",
      " 28  V28     284807 non-null  float64\n",
      " 29  Amount  284807 non-null  float64\n",
      " 30  Class   284807 non-null  int64  \n",
      "dtypes: float64(30), int64(1)\n",
      "memory usage: 67.4 MB\n"
     ]
    }
   ],
   "source": [
    "df.info()"
   ]
  },
  {
   "cell_type": "code",
   "execution_count": 9,
   "id": "99bab039-ae1e-4f0d-aed4-915d6f82b910",
   "metadata": {},
   "outputs": [
    {
     "data": {
      "text/plain": [
       "(284807, 31)"
      ]
     },
     "execution_count": 9,
     "metadata": {},
     "output_type": "execute_result"
    }
   ],
   "source": [
    "df.shape"
   ]
  },
  {
   "cell_type": "code",
   "execution_count": 10,
   "id": "764009a5-69cd-480d-b3f7-8c8f5c5d1fa3",
   "metadata": {},
   "outputs": [],
   "source": [
    "df_=df.loc[:,['Time','Amount','Class']]"
   ]
  },
  {
   "cell_type": "code",
   "execution_count": 12,
   "id": "7f023fbd-ce25-4a37-9885-0b8e2993b086",
   "metadata": {},
   "outputs": [
    {
     "data": {
      "text/html": [
       "<div>\n",
       "<style scoped>\n",
       "    .dataframe tbody tr th:only-of-type {\n",
       "        vertical-align: middle;\n",
       "    }\n",
       "\n",
       "    .dataframe tbody tr th {\n",
       "        vertical-align: top;\n",
       "    }\n",
       "\n",
       "    .dataframe thead th {\n",
       "        text-align: right;\n",
       "    }\n",
       "</style>\n",
       "<table border=\"1\" class=\"dataframe\">\n",
       "  <thead>\n",
       "    <tr style=\"text-align: right;\">\n",
       "      <th></th>\n",
       "      <th>Time</th>\n",
       "      <th>Amount</th>\n",
       "      <th>Class</th>\n",
       "    </tr>\n",
       "  </thead>\n",
       "  <tbody>\n",
       "    <tr>\n",
       "      <th>310</th>\n",
       "      <td>222.0</td>\n",
       "      <td>49.99</td>\n",
       "      <td>0</td>\n",
       "    </tr>\n",
       "    <tr>\n",
       "      <th>284319</th>\n",
       "      <td>172340.0</td>\n",
       "      <td>1.00</td>\n",
       "      <td>0</td>\n",
       "    </tr>\n",
       "    <tr>\n",
       "      <th>5510</th>\n",
       "      <td>5560.0</td>\n",
       "      <td>7.13</td>\n",
       "      <td>0</td>\n",
       "    </tr>\n",
       "    <tr>\n",
       "      <th>126104</th>\n",
       "      <td>77934.0</td>\n",
       "      <td>20.00</td>\n",
       "      <td>0</td>\n",
       "    </tr>\n",
       "    <tr>\n",
       "      <th>251281</th>\n",
       "      <td>155292.0</td>\n",
       "      <td>68.86</td>\n",
       "      <td>0</td>\n",
       "    </tr>\n",
       "    <tr>\n",
       "      <th>216729</th>\n",
       "      <td>140608.0</td>\n",
       "      <td>368.92</td>\n",
       "      <td>0</td>\n",
       "    </tr>\n",
       "    <tr>\n",
       "      <th>190246</th>\n",
       "      <td>128752.0</td>\n",
       "      <td>19.99</td>\n",
       "      <td>0</td>\n",
       "    </tr>\n",
       "    <tr>\n",
       "      <th>126865</th>\n",
       "      <td>78130.0</td>\n",
       "      <td>9.74</td>\n",
       "      <td>0</td>\n",
       "    </tr>\n",
       "    <tr>\n",
       "      <th>172190</th>\n",
       "      <td>120994.0</td>\n",
       "      <td>288.11</td>\n",
       "      <td>0</td>\n",
       "    </tr>\n",
       "    <tr>\n",
       "      <th>264778</th>\n",
       "      <td>161592.0</td>\n",
       "      <td>1.52</td>\n",
       "      <td>0</td>\n",
       "    </tr>\n",
       "  </tbody>\n",
       "</table>\n",
       "</div>"
      ],
      "text/plain": [
       "            Time  Amount  Class\n",
       "310        222.0   49.99      0\n",
       "284319  172340.0    1.00      0\n",
       "5510      5560.0    7.13      0\n",
       "126104   77934.0   20.00      0\n",
       "251281  155292.0   68.86      0\n",
       "216729  140608.0  368.92      0\n",
       "190246  128752.0   19.99      0\n",
       "126865   78130.0    9.74      0\n",
       "172190  120994.0  288.11      0\n",
       "264778  161592.0    1.52      0"
      ]
     },
     "execution_count": 12,
     "metadata": {},
     "output_type": "execute_result"
    }
   ],
   "source": [
    "df_.sample(10)"
   ]
  },
  {
   "cell_type": "code",
   "execution_count": 14,
   "id": "1cb9c128-ca77-4be6-92f9-4c0bfc99fd52",
   "metadata": {},
   "outputs": [
    {
     "data": {
      "text/plain": [
       "Class\n",
       "0    284315\n",
       "1       492\n",
       "Name: count, dtype: int64"
      ]
     },
     "execution_count": 14,
     "metadata": {},
     "output_type": "execute_result"
    }
   ],
   "source": [
    "df_['Class'].value_counts()"
   ]
  },
  {
   "cell_type": "code",
   "execution_count": 19,
   "id": "5d279dc7-10f2-4dba-bfd3-c485946a9ee7",
   "metadata": {},
   "outputs": [
    {
     "name": "stdout",
     "output_type": "stream",
     "text": [
      "284315\n",
      "492\n"
     ]
    }
   ],
   "source": [
    "print(df_[df_['Class']==0]['Amount'].count())\n",
    "print(df_[df_['Class']==1]['Amount'].count())"
   ]
  },
  {
   "cell_type": "code",
   "execution_count": 39,
   "id": "f6e625f0-1395-4601-bf26-995ee7451063",
   "metadata": {},
   "outputs": [],
   "source": [
    "import matplotlib.pyplot as plt\n",
    "import seaborn as sns\n",
    "from matplotlib.ticker import MultipleLocator"
   ]
  },
  {
   "cell_type": "code",
   "execution_count": 49,
   "id": "b3b81bc7-9d5d-4df2-9916-9ef79eb47061",
   "metadata": {},
   "outputs": [
    {
     "data": {
      "text/plain": [
       "<Axes: xlabel='Amount'>"
      ]
     },
     "execution_count": 49,
     "metadata": {},
     "output_type": "execute_result"
    },
    {
     "data": {
      "image/png": "[encoded data removed]",
      "text/plain": [
       "<Figure size 640x480 with 1 Axes>"
      ]
     },
     "metadata": {},
     "output_type": "display_data"
    }
   ],
   "source": [
    "sns.histplot(x=df_[df_['Class']==0]['Amount'],y=df_[df_['Class']==0]['Amount'].sum(),binwidth=5)"
   ]
  },
  {
   "cell_type": "code",
   "execution_count": 48,
   "id": "3fd88918-5a27-4e41-936f-8c780531a9dd",
   "metadata": {},
   "outputs": [
    {
     "data": {
      "text/plain": [
       "<Axes: xlabel='Amount'>"
      ]
     },
     "execution_count": 48,
     "metadata": {},
     "output_type": "execute_result"
    },
    {
     "data": {
      "image/png": "[encoded data removed]",
      "text/plain": [
       "<Figure size 640x480 with 1 Axes>"
      ]
     },
     "metadata": {},
     "output_type": "display_data"
    }
   ],
   "source": [
    "sns.histplot(x=df_[df_['Class']==1]['Amount'],y=df_[df_['Class']==1]['Amount'].sum(),binwidth=5, color='red')"
   ]
  },
  {
   "cell_type": "code",
   "execution_count": 52,
   "id": "bbb4014d-2332-48e0-a2b2-7eb50f8ad967",
   "metadata": {},
   "outputs": [
    {
     "data": {
      "text/html": [
       "<div>\n",
       "<style scoped>\n",
       "    .dataframe tbody tr th:only-of-type {\n",
       "        vertical-align: middle;\n",
       "    }\n",
       "\n",
       "    .dataframe tbody tr th {\n",
       "        vertical-align: top;\n",
       "    }\n",
       "\n",
       "    .dataframe thead th {\n",
       "        text-align: right;\n",
       "    }\n",
       "</style>\n",
       "<table border=\"1\" class=\"dataframe\">\n",
       "  <thead>\n",
       "    <tr style=\"text-align: right;\">\n",
       "      <th></th>\n",
       "      <th>Amount</th>\n",
       "      <th>Class</th>\n",
       "      <th>Time</th>\n",
       "    </tr>\n",
       "  </thead>\n",
       "  <tbody>\n",
       "    <tr>\n",
       "      <th>Amount</th>\n",
       "      <td>1.000000</td>\n",
       "      <td>0.005632</td>\n",
       "      <td>-0.010596</td>\n",
       "    </tr>\n",
       "    <tr>\n",
       "      <th>Class</th>\n",
       "      <td>0.005632</td>\n",
       "      <td>1.000000</td>\n",
       "      <td>-0.012323</td>\n",
       "    </tr>\n",
       "    <tr>\n",
       "      <th>Time</th>\n",
       "      <td>-0.010596</td>\n",
       "      <td>-0.012323</td>\n",
       "      <td>1.000000</td>\n",
       "    </tr>\n",
       "  </tbody>\n",
       "</table>\n",
       "</div>"
      ],
      "text/plain": [
       "          Amount     Class      Time\n",
       "Amount  1.000000  0.005632 -0.010596\n",
       "Class   0.005632  1.000000 -0.012323\n",
       "Time   -0.010596 -0.012323  1.000000"
      ]
     },
     "execution_count": 52,
     "metadata": {},
     "output_type": "execute_result"
    }
   ],
   "source": [
    "df_[['Amount','Class','Time']].corr()"
   ]
  },
  {
   "cell_type": "code",
   "execution_count": 55,
   "id": "c067c1a3-911f-4cd0-ae3f-d9ef60021733",
   "metadata": {},
   "outputs": [
    {
     "name": "stdout",
     "output_type": "stream",
     "text": [
      "88.29102242231328\n",
      "122.21132113821139\n",
      "250.10509222589243\n",
      "250.10509222589243\n"
     ]
    }
   ],
   "source": [
    "print(df_[df_['Class']==0]['Amount'].mean())\n",
    "print(df_[df_['Class']==1]['Amount'].mean())\n",
    "print(df_[df_['Class']==0]['Amount'].std())\n",
    "print(df_[df_['Class']==0]['Amount'].std())"
   ]
  },
  {
   "cell_type": "code",
   "execution_count": 80,
   "id": "4962cd54-22c4-4453-b40a-26d5065f8940",
   "metadata": {},
   "outputs": [],
   "source": [
    "from sklearn.linear_model import LogisticRegression\n",
    "from sklearn.model_selection import train_test_split\n",
    "from sklearn.naive_bayes import MultinomialNB,GaussianNB\n",
    "lg=LogisticRegression()\n",
    "mn=MultinomialNB()\n",
    "gn=GaussianNB()"
   ]
  },
  {
   "cell_type": "code",
   "execution_count": 67,
   "id": "99c36f2a-70f9-424b-97a9-d3931338abad",
   "metadata": {},
   "outputs": [],
   "source": [
    "import numpy as np\n",
    "x=df.drop(columns=['Class'])\n",
    "x=x.to_numpy()\n",
    "y=df['Class'].values"
   ]
  },
  {
   "cell_type": "code",
   "execution_count": 73,
   "id": "0ce38a46-7890-4940-9458-c84f59e67e50",
   "metadata": {},
   "outputs": [],
   "source": [
    "x_train,x_test,y_train,y_test=train_test_split(x,y,test_size=0.2, random_state=2)"
   ]
  },
  {
   "cell_type": "code",
   "execution_count": 76,
   "id": "8029ce1d-9c5e-4248-b8b8-99b6b5de6599",
   "metadata": {},
   "outputs": [
    {
     "name": "stderr",
     "output_type": "stream",
     "text": [
      "C:\\Users\\hp\\AppData\\Local\\Programs\\Python\\Python312\\Lib\\site-packages\\sklearn\\linear_model\\_logistic.py:473: ConvergenceWarning: lbfgs failed to converge after 100 iteration(s) (status=1):\n",
      "STOP: TOTAL NO. OF ITERATIONS REACHED LIMIT\n",
      "\n",
      "Increase the number of iterations to improve the convergence (max_iter=100).\n",
      "You might also want to scale the data as shown in:\n",
      "    https://scikit-learn.org/stable/modules/preprocessing.html\n",
      "Please also refer to the documentation for alternative solver options:\n",
      "    https://scikit-learn.org/stable/modules/linear_model.html#logistic-regression\n",
      "  n_iter_i = _check_optimize_result(\n"
     ]
    }
   ],
   "source": [
    "lg.fit(x_train,y_train)\n",
    "pred1=lg.predict(x_test)"
   ]
  },
  {
   "cell_type": "code",
   "execution_count": 77,
   "id": "8a895d09-f881-47e0-9831-26559cae4163",
   "metadata": {},
   "outputs": [],
   "source": [
    "from sklearn.metrics import precision_score,f1_score,accuracy_score"
   ]
  },
  {
   "cell_type": "code",
   "execution_count": 79,
   "id": "5ae6c188-919c-41cd-b895-e2db2360f2e3",
   "metadata": {},
   "outputs": [
    {
     "name": "stdout",
     "output_type": "stream",
     "text": [
      "0.9988939995084443\n"
     ]
    }
   ],
   "source": [
    "print(accuracy_score(pred1,y_test))"
   ]
  },
  {
   "cell_type": "code",
   "execution_count": 83,
   "id": "62a85187-9b83-42d3-9801-747761d2aaf1",
   "metadata": {},
   "outputs": [
    {
     "name": "stdout",
     "output_type": "stream",
     "text": [
      "0.9926442189529862\n"
     ]
    }
   ],
   "source": [
    "gn.fit(x_train,y_train)\n",
    "pred2=gn.predict(x_test)\n",
    "\n",
    "print(accuracy_score(pred2,y_test))"
   ]
  },
  {
   "cell_type": "code",
   "execution_count": null,
   "id": "f1be0a7c-5dce-4adc-8a86-48b25e5a32aa",
   "metadata": {},
   "outputs": [],
   "source": []
  }
 ],
 "metadata": {
  "kernelspec": {
   "display_name": "Python 3 (ipykernel)",
   "language": "python",
   "name": "python3"
  },
  "language_info": {
   "codemirror_mode": {
    "name": "ipython",
    "version": 3
   },
   "file_extension": ".py",
   "mimetype": "text/x-python",
   "name": "python",
   "nbconvert_exporter": "python",
   "pygments_lexer": "ipython3",
   "version": "3.12.6"
  }
 },
 "nbformat": 4,
 "nbformat_minor": 5
}
